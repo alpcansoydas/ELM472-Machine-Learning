{
 "cells": [
  {
   "cell_type": "markdown",
   "metadata": {},
   "source": [
    "### MNIST Classification with CNN"
   ]
  },
  {
   "cell_type": "code",
   "execution_count": 12,
   "metadata": {},
   "outputs": [],
   "source": [
    "import torch\n",
    "import numpy as np\n",
    "import matplotlib.pyplot as plt\n",
    "from torchvision import datasets\n",
    "from torchvision.transforms import ToTensor"
   ]
  },
  {
   "cell_type": "code",
   "execution_count": 2,
   "metadata": {},
   "outputs": [
    {
     "data": {
      "text/plain": [
       "device(type='cpu')"
      ]
     },
     "execution_count": 2,
     "metadata": {},
     "output_type": "execute_result"
    }
   ],
   "source": [
    "device = torch.device('cuda' if torch.cuda.is_available() else 'cpu')\n",
    "device"
   ]
  },
  {
   "cell_type": "code",
   "execution_count": 4,
   "metadata": {},
   "outputs": [
    {
     "name": "stdout",
     "output_type": "stream",
     "text": [
      "Downloading http://yann.lecun.com/exdb/mnist/train-images-idx3-ubyte.gz\n",
      "Downloading http://yann.lecun.com/exdb/mnist/train-images-idx3-ubyte.gz to data\\MNIST\\raw\\train-images-idx3-ubyte.gz\n"
     ]
    },
    {
     "data": {
      "application/vnd.jupyter.widget-view+json": {
       "model_id": "8d1bf808be6b4133b811ed24a8acab74",
       "version_major": 2,
       "version_minor": 0
      },
      "text/plain": [
       "  0%|          | 0/9912422 [00:00<?, ?it/s]"
      ]
     },
     "metadata": {},
     "output_type": "display_data"
    },
    {
     "name": "stdout",
     "output_type": "stream",
     "text": [
      "Extracting data\\MNIST\\raw\\train-images-idx3-ubyte.gz to data\\MNIST\\raw\n",
      "\n",
      "Downloading http://yann.lecun.com/exdb/mnist/train-labels-idx1-ubyte.gz\n",
      "Downloading http://yann.lecun.com/exdb/mnist/train-labels-idx1-ubyte.gz to data\\MNIST\\raw\\train-labels-idx1-ubyte.gz\n"
     ]
    },
    {
     "data": {
      "application/vnd.jupyter.widget-view+json": {
       "model_id": "656b0bab66654eb698542e42e93a793a",
       "version_major": 2,
       "version_minor": 0
      },
      "text/plain": [
       "  0%|          | 0/28881 [00:00<?, ?it/s]"
      ]
     },
     "metadata": {},
     "output_type": "display_data"
    },
    {
     "name": "stdout",
     "output_type": "stream",
     "text": [
      "Extracting data\\MNIST\\raw\\train-labels-idx1-ubyte.gz to data\\MNIST\\raw\n",
      "\n",
      "Downloading http://yann.lecun.com/exdb/mnist/t10k-images-idx3-ubyte.gz\n",
      "Downloading http://yann.lecun.com/exdb/mnist/t10k-images-idx3-ubyte.gz to data\\MNIST\\raw\\t10k-images-idx3-ubyte.gz\n"
     ]
    },
    {
     "data": {
      "application/vnd.jupyter.widget-view+json": {
       "model_id": "e483e957bd6b422c899fcfb1a33fbd31",
       "version_major": 2,
       "version_minor": 0
      },
      "text/plain": [
       "  0%|          | 0/1648877 [00:00<?, ?it/s]"
      ]
     },
     "metadata": {},
     "output_type": "display_data"
    },
    {
     "name": "stdout",
     "output_type": "stream",
     "text": [
      "Extracting data\\MNIST\\raw\\t10k-images-idx3-ubyte.gz to data\\MNIST\\raw\n",
      "\n",
      "Downloading http://yann.lecun.com/exdb/mnist/t10k-labels-idx1-ubyte.gz\n",
      "Downloading http://yann.lecun.com/exdb/mnist/t10k-labels-idx1-ubyte.gz to data\\MNIST\\raw\\t10k-labels-idx1-ubyte.gz\n"
     ]
    },
    {
     "data": {
      "application/vnd.jupyter.widget-view+json": {
       "model_id": "d944b3ee76fc4c62a66619789fab92bc",
       "version_major": 2,
       "version_minor": 0
      },
      "text/plain": [
       "  0%|          | 0/4542 [00:00<?, ?it/s]"
      ]
     },
     "metadata": {},
     "output_type": "display_data"
    },
    {
     "name": "stdout",
     "output_type": "stream",
     "text": [
      "Extracting data\\MNIST\\raw\\t10k-labels-idx1-ubyte.gz to data\\MNIST\\raw\n",
      "\n"
     ]
    }
   ],
   "source": [
    "train_data = datasets.MNIST(root = 'data', train = True, transform = ToTensor(), download = True)\n",
    "test_data = datasets.MNIST(root = 'data', train = False, transform = ToTensor())"
   ]
  },
  {
   "cell_type": "code",
   "execution_count": 5,
   "metadata": {},
   "outputs": [
    {
     "name": "stdout",
     "output_type": "stream",
     "text": [
      "Dataset MNIST\n",
      "    Number of datapoints: 60000\n",
      "    Root location: data\n",
      "    Split: Train\n",
      "    StandardTransform\n",
      "Transform: ToTensor()\n"
     ]
    }
   ],
   "source": [
    "print(train_data)"
   ]
  },
  {
   "cell_type": "code",
   "execution_count": 6,
   "metadata": {},
   "outputs": [
    {
     "name": "stdout",
     "output_type": "stream",
     "text": [
      "Dataset MNIST\n",
      "    Number of datapoints: 10000\n",
      "    Root location: data\n",
      "    Split: Test\n",
      "    StandardTransform\n",
      "Transform: ToTensor()\n"
     ]
    }
   ],
   "source": [
    "print(test_data)"
   ]
  },
  {
   "cell_type": "code",
   "execution_count": 11,
   "metadata": {},
   "outputs": [
    {
     "data": {
      "text/plain": [
       "(torch.Size([60000, 28, 28]), torch.Size([60000]))"
      ]
     },
     "execution_count": 11,
     "metadata": {},
     "output_type": "execute_result"
    }
   ],
   "source": [
    "train_data.data.size(), train_data.targets.size()"
   ]
  },
  {
   "cell_type": "code",
   "execution_count": 13,
   "metadata": {},
   "outputs": [
    {
     "data": {
      "image/png": "[encoded data removed]",
      "text/plain": [
       "<Figure size 432x288 with 2 Axes>"
      ]
     },
     "metadata": {
      "needs_background": "light"
     },
     "output_type": "display_data"
    }
   ],
   "source": [
    "# Visualize the data\n",
    "plt.imshow(train_data.data[0], cmap='gray')\n",
    "plt.colorbar()\n",
    "plt.show()"
   ]
  },
  {
   "cell_type": "code",
   "execution_count": 14,
   "metadata": {},
   "outputs": [
    {
     "data": {
      "text/plain": [
       "{'train': <torch.utils.data.dataloader.DataLoader at 0x1889b9d8100>,\n",
       " 'test': <torch.utils.data.dataloader.DataLoader at 0x18899ca2b20>}"
      ]
     },
     "execution_count": 14,
     "metadata": {},
     "output_type": "execute_result"
    }
   ],
   "source": [
    "from torch.utils.data import DataLoader\n",
    "\n",
    "loaders = {'train': torch.utils.data.DataLoader(train_data, batch_size=100, shuffle=True, num_workers=1),\n",
    "           'test': torch.utils.data.DataLoader(test_data, batch_size=100, shuffle=True, num_workers=1),\n",
    "           }\n",
    "loaders"
   ]
  },
  {
   "cell_type": "code",
   "execution_count": 15,
   "metadata": {},
   "outputs": [],
   "source": [
    "import torch.nn as nn\n",
    "\n",
    "class CNN(nn.Module):\n",
    "    def __init__(self):\n",
    "        super(CNN, self).__init__()\n",
    "        self.conv1 = nn.Sequential(         \n",
    "            nn.Conv2d(\n",
    "                in_channels=1,              \n",
    "                out_channels=16,            \n",
    "                kernel_size=5,              \n",
    "                stride=1,                   \n",
    "                padding=2,                  \n",
    "            ),                              \n",
    "            nn.ReLU(),                      \n",
    "            nn.MaxPool2d(kernel_size=2),    \n",
    "        )\n",
    "        self.conv2 = nn.Sequential(         \n",
    "            nn.Conv2d(16, 32, 5, 1, 2),     \n",
    "            nn.ReLU(),                      \n",
    "            nn.MaxPool2d(2),                \n",
    "        )\n",
    "        # fully connected layer, output 10 classes\n",
    "        self.out = nn.Linear(32 * 7 * 7, 10)\n",
    "    def forward(self, x):\n",
    "        x = self.conv1(x)\n",
    "        x = self.conv2(x)\n",
    "        # flatten the output of conv2 to (batch_size, 32 * 7 * 7)\n",
    "        x = x.view(x.size(0), -1)       \n",
    "        output = self.out(x)\n",
    "        return output, x    # return x for visualization"
   ]
  },
  {
   "cell_type": "code",
   "execution_count": 16,
   "metadata": {},
   "outputs": [
    {
     "name": "stdout",
     "output_type": "stream",
     "text": [
      "CNN(\n",
      "  (conv1): Sequential(\n",
      "    (0): Conv2d(1, 16, kernel_size=(5, 5), stride=(1, 1), padding=(2, 2))\n",
      "    (1): ReLU()\n",
      "    (2): MaxPool2d(kernel_size=2, stride=2, padding=0, dilation=1, ceil_mode=False)\n",
      "  )\n",
      "  (conv2): Sequential(\n",
      "    (0): Conv2d(16, 32, kernel_size=(5, 5), stride=(1, 1), padding=(2, 2))\n",
      "    (1): ReLU()\n",
      "    (2): MaxPool2d(kernel_size=2, stride=2, padding=0, dilation=1, ceil_mode=False)\n",
      "  )\n",
      "  (out): Linear(in_features=1568, out_features=10, bias=True)\n",
      ")\n"
     ]
    }
   ],
   "source": [
    "cnn = CNN()\n",
    "print(cnn)"
   ]
  },
  {
   "cell_type": "code",
   "execution_count": 17,
   "metadata": {},
   "outputs": [
    {
     "data": {
      "text/plain": [
       "CrossEntropyLoss()"
      ]
     },
     "execution_count": 17,
     "metadata": {},
     "output_type": "execute_result"
    }
   ],
   "source": [
    "# Define loss function\n",
    "loss_func = nn.CrossEntropyLoss()\n",
    "loss_func"
   ]
  },
  {
   "cell_type": "code",
   "execution_count": 18,
   "metadata": {},
   "outputs": [
    {
     "data": {
      "text/plain": [
       "Adam (\n",
       "Parameter Group 0\n",
       "    amsgrad: False\n",
       "    betas: (0.9, 0.999)\n",
       "    capturable: False\n",
       "    differentiable: False\n",
       "    eps: 1e-08\n",
       "    foreach: None\n",
       "    fused: False\n",
       "    lr: 0.01\n",
       "    maximize: False\n",
       "    weight_decay: 0\n",
       ")"
      ]
     },
     "execution_count": 18,
     "metadata": {},
     "output_type": "execute_result"
    }
   ],
   "source": [
    "# Define a optimization functiın\n",
    "from torch import optim\n",
    "\n",
    "optimizer = optim.Adam(cnn.parameters(), lr = 0.01)\n",
    "optimizer"
   ]
  },
  {
   "cell_type": "code",
   "execution_count": 27,
   "metadata": {},
   "outputs": [
    {
     "name": "stdout",
     "output_type": "stream",
     "text": [
      "Epoch [1/10], Step [100/600], Loss: 0.0685\n",
      "Epoch [1/10], Step [200/600], Loss: 0.0727\n",
      "Epoch [1/10], Step [300/600], Loss: 0.1200\n",
      "Epoch [1/10], Step [400/600], Loss: 0.0787\n",
      "Epoch [1/10], Step [500/600], Loss: 0.0087\n",
      "Epoch [1/10], Step [600/600], Loss: 0.0154\n",
      "Epoch [2/10], Step [100/600], Loss: 0.0545\n",
      "Epoch [2/10], Step [200/600], Loss: 0.0869\n",
      "Epoch [2/10], Step [300/600], Loss: 0.0171\n",
      "Epoch [2/10], Step [400/600], Loss: 0.1101\n",
      "Epoch [2/10], Step [500/600], Loss: 0.0351\n",
      "Epoch [2/10], Step [600/600], Loss: 0.0252\n",
      "Epoch [3/10], Step [100/600], Loss: 0.0107\n",
      "Epoch [3/10], Step [200/600], Loss: 0.0574\n",
      "Epoch [3/10], Step [300/600], Loss: 0.0276\n",
      "Epoch [3/10], Step [400/600], Loss: 0.0834\n",
      "Epoch [3/10], Step [500/600], Loss: 0.0540\n",
      "Epoch [3/10], Step [600/600], Loss: 0.0200\n",
      "Epoch [4/10], Step [100/600], Loss: 0.0415\n",
      "Epoch [4/10], Step [200/600], Loss: 0.0576\n",
      "Epoch [4/10], Step [300/600], Loss: 0.0621\n",
      "Epoch [4/10], Step [400/600], Loss: 0.0185\n",
      "Epoch [4/10], Step [500/600], Loss: 0.0096\n",
      "Epoch [4/10], Step [600/600], Loss: 0.0931\n",
      "Epoch [5/10], Step [100/600], Loss: 0.0233\n",
      "Epoch [5/10], Step [200/600], Loss: 0.0492\n",
      "Epoch [5/10], Step [300/600], Loss: 0.0466\n",
      "Epoch [5/10], Step [400/600], Loss: 0.1935\n",
      "Epoch [5/10], Step [500/600], Loss: 0.0331\n",
      "Epoch [5/10], Step [600/600], Loss: 0.0069\n",
      "Epoch [6/10], Step [100/600], Loss: 0.0015\n",
      "Epoch [6/10], Step [200/600], Loss: 0.0408\n",
      "Epoch [6/10], Step [300/600], Loss: 0.0304\n",
      "Epoch [6/10], Step [400/600], Loss: 0.0060\n",
      "Epoch [6/10], Step [500/600], Loss: 0.0555\n",
      "Epoch [6/10], Step [600/600], Loss: 0.0784\n",
      "Epoch [7/10], Step [100/600], Loss: 0.0028\n",
      "Epoch [7/10], Step [200/600], Loss: 0.1056\n",
      "Epoch [7/10], Step [300/600], Loss: 0.0489\n",
      "Epoch [7/10], Step [400/600], Loss: 0.0113\n",
      "Epoch [7/10], Step [500/600], Loss: 0.1307\n",
      "Epoch [7/10], Step [600/600], Loss: 0.0696\n",
      "Epoch [8/10], Step [100/600], Loss: 0.0842\n",
      "Epoch [8/10], Step [200/600], Loss: 0.1290\n",
      "Epoch [8/10], Step [300/600], Loss: 0.0192\n",
      "Epoch [8/10], Step [400/600], Loss: 0.0760\n",
      "Epoch [8/10], Step [500/600], Loss: 0.0096\n",
      "Epoch [8/10], Step [600/600], Loss: 0.0330\n",
      "Epoch [9/10], Step [100/600], Loss: 0.0004\n",
      "Epoch [9/10], Step [200/600], Loss: 0.0201\n",
      "Epoch [9/10], Step [300/600], Loss: 0.0158\n",
      "Epoch [9/10], Step [400/600], Loss: 0.0007\n",
      "Epoch [9/10], Step [500/600], Loss: 0.0006\n",
      "Epoch [9/10], Step [600/600], Loss: 0.0087\n",
      "Epoch [10/10], Step [100/600], Loss: 0.0143\n",
      "Epoch [10/10], Step [200/600], Loss: 0.0492\n",
      "Epoch [10/10], Step [300/600], Loss: 0.0307\n",
      "Epoch [10/10], Step [400/600], Loss: 0.0313\n",
      "Epoch [10/10], Step [500/600], Loss: 0.0009\n",
      "Epoch [10/10], Step [600/600], Loss: 0.0457\n"
     ]
    }
   ],
   "source": [
    "# Train the model\n",
    "from torch.autograd import Variable\n",
    "num_epochs = 10\n",
    "def train(num_epochs, cnn, loaders):\n",
    "    \n",
    "    cnn.train()\n",
    "        \n",
    "    # Train the model\n",
    "    total_step = len(loaders['train'])\n",
    "        \n",
    "    for epoch in range(num_epochs):\n",
    "        for i, (images, labels) in enumerate(loaders['train']):\n",
    "            \n",
    "            # gives batch data, normalize x when iterate train_loader\n",
    "            b_x = Variable(images)   # batch x\n",
    "            b_y = Variable(labels)   # batch y \n",
    "            output = cnn(b_x)[0]               \n",
    "            loss = loss_func(output, b_y)\n",
    "            \n",
    "            # clear gradients for this training step   \n",
    "            optimizer.zero_grad()           \n",
    "            \n",
    "            # backpropagation, compute gradients \n",
    "            loss.backward()    \n",
    "\n",
    "            # apply gradients             \n",
    "            optimizer.step()                \n",
    "            \n",
    "            if (i+1) % 100 == 0:\n",
    "                print ('Epoch [{}/{}], Step [{}/{}], Loss: {:.4f}'.format(epoch + 1, num_epochs, i + 1, total_step, loss.item()))\n",
    "                pass\n",
    "        pass\n",
    "    pass\n",
    "\n",
    "train(num_epochs, cnn, loaders)"
   ]
  },
  {
   "cell_type": "code",
   "execution_count": 28,
   "metadata": {},
   "outputs": [
    {
     "name": "stdout",
     "output_type": "stream",
     "text": [
      "Test Accuracy of the model on the 10000 test images: 0.99\n"
     ]
    }
   ],
   "source": [
    "# Evaluating the model\n",
    "def test():\n",
    "    # Test the model\n",
    "    cnn.eval()\n",
    "    with torch.no_grad():\n",
    "        correct = 0\n",
    "        total = 0\n",
    "        for images, labels in loaders['test']:\n",
    "            test_output, last_layer = cnn(images)\n",
    "            pred_y = torch.max(test_output, 1)[1].data.squeeze()\n",
    "            accuracy = (pred_y == labels).sum().item() / float(labels.size(0))\n",
    "            pass\n",
    "\n",
    "    print('Test Accuracy of the model on the 10000 test images: %.2f' % accuracy)\n",
    "    pass\n",
    "\n",
    "test()"
   ]
  },
  {
   "cell_type": "code",
   "execution_count": 29,
   "metadata": {},
   "outputs": [],
   "source": [
    "# Predictions\n",
    "sample = next(iter(loaders['test']))\n",
    "imgs, lbls = sample"
   ]
  },
  {
   "cell_type": "code",
   "execution_count": 30,
   "metadata": {},
   "outputs": [
    {
     "data": {
      "text/plain": [
       "array([1, 1, 4, 3, 4, 4, 6, 1, 9, 9], dtype=int64)"
      ]
     },
     "execution_count": 30,
     "metadata": {},
     "output_type": "execute_result"
    }
   ],
   "source": [
    "actual_number = lbls[:10].numpy()\n",
    "actual_number"
   ]
  },
  {
   "cell_type": "code",
   "execution_count": 32,
   "metadata": {},
   "outputs": [
    {
     "name": "stdout",
     "output_type": "stream",
     "text": [
      "Prediction number: [1 1 4 3 4 4 6 1 9 9]\n",
      "Actual number: [1 1 4 3 4 4 6 1 9 9]\n"
     ]
    }
   ],
   "source": [
    "test_output, last_layer = cnn(imgs[:10])\n",
    "pred_y = torch.max(test_output, 1)[1].data.numpy().squeeze()\n",
    "print(f'Prediction number: {pred_y}')\n",
    "print(f'Actual number: {actual_number}')"
   ]
  },
  {
   "cell_type": "markdown",
   "metadata": {},
   "source": [
    "### MNIST Classification with RNN"
   ]
  },
  {
   "cell_type": "code",
   "execution_count": 18,
   "metadata": {},
   "outputs": [],
   "source": [
    "import numpy as np\n",
    "from keras.models import Sequential\n",
    "from keras.layers import Dense, Activation, SimpleRNN\n",
    "from keras.utils import to_categorical, plot_model\n",
    "from keras.datasets import mnist"
   ]
  },
  {
   "cell_type": "code",
   "execution_count": 17,
   "metadata": {},
   "outputs": [],
   "source": [
    "from __future__ import absolute_import\n",
    "from __future__ import division\n",
    "from __future__ import print_function"
   ]
  },
  {
   "cell_type": "code",
   "execution_count": 19,
   "metadata": {},
   "outputs": [
    {
     "name": "stdout",
     "output_type": "stream",
     "text": [
      "Downloading data from https://storage.googleapis.com/tensorflow/tf-keras-datasets/mnist.npz\n",
      "11490434/11490434 [==============================] - 11s 1us/step\n"
     ]
    }
   ],
   "source": [
    "# Load the dataset\n",
    "(x_train, y_train), (x_test, y_test) = mnist.load_data()"
   ]
  },
  {
   "cell_type": "code",
   "execution_count": 20,
   "metadata": {},
   "outputs": [],
   "source": [
    "# Number of labels\n",
    "num_labels = len(np.unique(y_train))"
   ]
  },
  {
   "cell_type": "code",
   "execution_count": 21,
   "metadata": {},
   "outputs": [],
   "source": [
    "# Convert to one-hot vector\n",
    "y_train = to_categorical(y_train)\n",
    "y_test = to_categorical(y_test)"
   ]
  },
  {
   "cell_type": "code",
   "execution_count": 22,
   "metadata": {},
   "outputs": [],
   "source": [
    "# Resize and normalize\n",
    "image_size = x_train.shape[1]\n",
    "x_train = np.reshape(x_train,[-1, image_size, image_size])\n",
    "x_test = np.reshape(x_test,[-1, image_size, image_size])\n",
    "x_train = x_train.astype('float32') / 255\n",
    "x_test = x_test.astype('float32') / 255"
   ]
  },
  {
   "cell_type": "code",
   "execution_count": 23,
   "metadata": {},
   "outputs": [],
   "source": [
    "# Parameters\n",
    "input_shape = (image_size, image_size)\n",
    "batch_size = 128\n",
    "units = 256\n",
    "dropout = 0.2"
   ]
  },
  {
   "cell_type": "code",
   "execution_count": 24,
   "metadata": {},
   "outputs": [
    {
     "name": "stdout",
     "output_type": "stream",
     "text": [
      "Model: \"sequential\"\n",
      "_________________________________________________________________\n",
      " Layer (type)                Output Shape              Param #   \n",
      "=================================================================\n",
      " simple_rnn (SimpleRNN)      (None, 256)               72960     \n",
      "                                                                 \n",
      " dense (Dense)               (None, 10)                2570      \n",
      "                                                                 \n",
      " activation (Activation)     (None, 10)                0         \n",
      "                                                                 \n",
      "=================================================================\n",
      "Total params: 75,530\n",
      "Trainable params: 75,530\n",
      "Non-trainable params: 0\n",
      "_________________________________________________________________\n",
      "You must install pydot (`pip install pydot`) and install graphviz (see instructions at https://graphviz.gitlab.io/download/) for plot_model to work.\n"
     ]
    }
   ],
   "source": [
    "# model is RNN with 256 units, input is 28-dim vector 28 timesteps\n",
    "model = Sequential()\n",
    "model.add(SimpleRNN(units=units, input_shape=input_shape))\n",
    "model.add(Dense(num_labels))\n",
    "model.add(Activation('softmax'))\n",
    "model.summary()\n",
    "plot_model(model, to_file='rnn-mnist.png', show_shapes=True)"
   ]
  },
  {
   "cell_type": "code",
   "execution_count": 25,
   "metadata": {},
   "outputs": [
    {
     "name": "stdout",
     "output_type": "stream",
     "text": [
      "Epoch 1/20\n",
      "469/469 [==============================] - 15s 28ms/step - loss: 0.6520 - accuracy: 0.8308\n",
      "Epoch 2/20\n",
      "469/469 [==============================] - 14s 31ms/step - loss: 0.2577 - accuracy: 0.9269\n",
      "Epoch 3/20\n",
      "469/469 [==============================] - 15s 31ms/step - loss: 0.1915 - accuracy: 0.9453\n",
      "Epoch 4/20\n",
      "469/469 [==============================] - 15s 32ms/step - loss: 0.1584 - accuracy: 0.9543\n",
      "Epoch 5/20\n",
      "469/469 [==============================] - 15s 33ms/step - loss: 0.1379 - accuracy: 0.9599\n",
      "Epoch 6/20\n",
      "469/469 [==============================] - 14s 30ms/step - loss: 0.1236 - accuracy: 0.9643\n",
      "Epoch 7/20\n",
      "469/469 [==============================] - 14s 29ms/step - loss: 0.1109 - accuracy: 0.9672\n",
      "Epoch 8/20\n",
      "469/469 [==============================] - 14s 30ms/step - loss: 0.1002 - accuracy: 0.9708\n",
      "Epoch 9/20\n",
      "469/469 [==============================] - 14s 30ms/step - loss: 0.0946 - accuracy: 0.9720\n",
      "Epoch 10/20\n",
      "469/469 [==============================] - 14s 30ms/step - loss: 0.0883 - accuracy: 0.9744\n",
      "Epoch 11/20\n",
      "469/469 [==============================] - 14s 31ms/step - loss: 0.0828 - accuracy: 0.9753\n",
      "Epoch 12/20\n",
      "469/469 [==============================] - 15s 31ms/step - loss: 0.0768 - accuracy: 0.9776\n",
      "Epoch 13/20\n",
      "469/469 [==============================] - 14s 30ms/step - loss: 0.0716 - accuracy: 0.9789\n",
      "Epoch 14/20\n",
      "469/469 [==============================] - 14s 31ms/step - loss: 0.0682 - accuracy: 0.9797\n",
      "Epoch 15/20\n",
      "469/469 [==============================] - 14s 30ms/step - loss: 0.0640 - accuracy: 0.9814\n",
      "Epoch 16/20\n",
      "469/469 [==============================] - 15s 32ms/step - loss: 0.0611 - accuracy: 0.9822\n",
      "Epoch 17/20\n",
      "469/469 [==============================] - 14s 30ms/step - loss: 0.0613 - accuracy: 0.9813\n",
      "Epoch 18/20\n",
      "469/469 [==============================] - 15s 31ms/step - loss: 0.0539 - accuracy: 0.9840\n",
      "Epoch 19/20\n",
      "469/469 [==============================] - 15s 32ms/step - loss: 0.0522 - accuracy: 0.9844\n",
      "Epoch 20/20\n",
      "469/469 [==============================] - 16s 34ms/step - loss: 0.0503 - accuracy: 0.9848\n",
      "79/79 [==============================] - 1s 13ms/step - loss: 0.0633 - accuracy: 0.9801\n",
      "\n",
      "Test accuracy: 98.0%\n"
     ]
    }
   ],
   "source": [
    "# Loss function for one-hot vector\n",
    "# Sgd optimizer\n",
    "# Accuracy is good metric for classification tasks\n",
    "model.compile(loss='categorical_crossentropy', optimizer='sgd', metrics=['accuracy'])\n",
    "\n",
    "# Training the network\n",
    "model.fit(x_train, y_train, epochs=20, batch_size=batch_size)\n",
    "\n",
    "# Show accuracy\n",
    "loss, acc = model.evaluate(x_test, y_test, batch_size=batch_size)\n",
    "print(\"\\nTest accuracy: %.1f%%\" % (100.0 * acc))"
   ]
  },
  {
   "cell_type": "markdown",
   "metadata": {},
   "source": [
    "### MNIST Classification with LSTM"
   ]
  },
  {
   "cell_type": "code",
   "execution_count": 39,
   "metadata": {},
   "outputs": [],
   "source": [
    "import keras\n",
    "from keras.datasets import mnist\n",
    "import matplotlib.pyplot as plt"
   ]
  },
  {
   "cell_type": "code",
   "execution_count": 28,
   "metadata": {},
   "outputs": [],
   "source": [
    "# Load the dataset\n",
    "(X_train, y_train), (X_test, y_test) = mnist.load_data()"
   ]
  },
  {
   "cell_type": "code",
   "execution_count": 29,
   "metadata": {},
   "outputs": [],
   "source": [
    "# Normalizing the data\n",
    "X_train = X_train.astype('float32') / 255.0\n",
    "X_test = X_test.astype('float32') / 255.0"
   ]
  },
  {
   "cell_type": "code",
   "execution_count": 32,
   "metadata": {},
   "outputs": [],
   "source": [
    "# Initializing model\n",
    "model = keras.models.Sequential()\n",
    "\n",
    "# Adding the model layers\n",
    "model.add(keras.layers.LSTM(128, input_shape=(X_train.shape[1:]), return_sequences=True))\n",
    "model.add(keras.layers.Dropout(0.2))\n",
    "model.add(keras.layers.LSTM(128))\n",
    "model.add(keras.layers.Dense(64, activation='relu'))\n",
    "model.add(keras.layers.Dropout(0.2))\n",
    "model.add(keras.layers.Dense(10, activation='softmax'))"
   ]
  },
  {
   "cell_type": "code",
   "execution_count": 33,
   "metadata": {},
   "outputs": [
    {
     "name": "stderr",
     "output_type": "stream",
     "text": [
      "d:\\AnacondaPy\\lib\\site-packages\\keras\\optimizers\\optimizer_v2\\adam.py:117: UserWarning: The `lr` argument is deprecated, use `learning_rate` instead.\n",
      "  super().__init__(name, **kwargs)\n"
     ]
    }
   ],
   "source": [
    "# Compiling the model\n",
    "model.compile( loss='sparse_categorical_crossentropy', optimizer = keras.optimizers.Adam(lr=0.001, decay=1e-6), metrics=['accuracy'] )"
   ]
  },
  {
   "cell_type": "code",
   "execution_count": 34,
   "metadata": {},
   "outputs": [
    {
     "name": "stdout",
     "output_type": "stream",
     "text": [
      "Epoch 1/3\n",
      "1875/1875 [==============================] - 107s 54ms/step - loss: 0.3376 - accuracy: 0.8945 - val_loss: 0.1007 - val_accuracy: 0.9695\n",
      "Epoch 2/3\n",
      "1875/1875 [==============================] - 97s 52ms/step - loss: 0.1013 - accuracy: 0.9710 - val_loss: 0.0647 - val_accuracy: 0.9808\n",
      "Epoch 3/3\n",
      "1875/1875 [==============================] - 99s 53ms/step - loss: 0.0707 - accuracy: 0.9800 - val_loss: 0.0689 - val_accuracy: 0.9783\n"
     ]
    }
   ],
   "source": [
    "# Fitting data to the model\n",
    "history = model.fit(X_train, y_train, epochs=3, validation_data=(X_test, y_test))"
   ]
  },
  {
   "cell_type": "code",
   "execution_count": 35,
   "metadata": {},
   "outputs": [
    {
     "name": "stdout",
     "output_type": "stream",
     "text": [
      "313/313 [==============================] - 6s 20ms/step - loss: 0.0689 - accuracy: 0.9783\n",
      "Test Loss: 0.06885961443185806\n",
      "Test Accuracy: 0.9782999753952026\n"
     ]
    }
   ],
   "source": [
    "# Evaluating the test loss and accuracy\n",
    "test_loss, test_acc = model.evaluate(X_test, y_test)\n",
    "print('Test Loss: {}'.format(test_loss))\n",
    "print('Test Accuracy: {}'.format(test_acc))"
   ]
  },
  {
   "cell_type": "code",
   "execution_count": 36,
   "metadata": {},
   "outputs": [],
   "source": [
    "train_loss = history.history['loss']\n",
    "val_loss = history.history['val_loss']\n",
    "train_acc = history.history['accuracy']\n",
    "val_acc = history.history['val_accuracy']"
   ]
  },
  {
   "cell_type": "code",
   "execution_count": 40,
   "metadata": {},
   "outputs": [
    {
     "data": {
      "image/png": "[encoded data removed]",
      "text/plain": [
       "<Figure size 432x288 with 1 Axes>"
      ]
     },
     "metadata": {
      "needs_background": "light"
     },
     "output_type": "display_data"
    }
   ],
   "source": [
    "# Visualizing the change in the validation loss\n",
    "plt.plot(val_acc) \n",
    "plt.title(\"Test Accuracy\",size=18)\n",
    "plt.xlabel(\"Number of iterations\") \n",
    "plt.ylabel(\"Test Accuracy\") \n",
    "plt.show() "
   ]
  },
  {
   "attachments": {},
   "cell_type": "markdown",
   "metadata": {},
   "source": [
    "#### SOURCES\n",
    "\n",
    "##### https://www.kaggle.com/code/shivanisheth2911/lstm-keras-on-mnist\n",
    "##### https://medium.com/@nutanbhogendrasharma/pytorch-convolutional-neural-network-with-mnist-dataset-4e8a4265e118\n",
    "##### https://notebook.community/roatienza/Deep-Learning-Experiments/keras/rnn/simple-rnn-mnist"
   ]
  }
 ],
 "metadata": {
  "kernelspec": {
   "display_name": "base",
   "language": "python",
   "name": "python3"
  },
  "language_info": {
   "codemirror_mode": {
    "name": "ipython",
    "version": 3
   },
   "file_extension": ".py",
   "mimetype": "text/x-python",
   "name": "python",
   "nbconvert_exporter": "python",
   "pygments_lexer": "ipython3",
   "version": "3.9.12"
  },
  "orig_nbformat": 4,
  "vscode": {
   "interpreter": {
    "hash": "630f30bc5e58f27a7739d1e013ae8bc4ba528fb823ea4c2773c30dee40f9b246"
   }
  }
 },
 "nbformat": 4,
 "nbformat_minor": 2
}
