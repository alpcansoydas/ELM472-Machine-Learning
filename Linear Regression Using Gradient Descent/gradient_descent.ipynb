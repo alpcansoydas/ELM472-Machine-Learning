{
 "cells": [
  {
   "cell_type": "code",
   "execution_count": 1,
   "metadata": {},
   "outputs": [],
   "source": [
    "import numpy as np\n",
    "import pandas as pd\n",
    "import matplotlib.pyplot as plt"
   ]
  },
  {
   "cell_type": "code",
   "execution_count": 2,
   "metadata": {},
   "outputs": [
    {
     "name": "stdout",
     "output_type": "stream",
     "text": [
      "Shape: (100, 2)\n",
      "Type: <class 'numpy.ndarray'>\n"
     ]
    }
   ],
   "source": [
    "data = np.load('data 1.npy')\n",
    "data = np.reshape(data,(2,100))\n",
    "data = data.T\n",
    "print(\"Shape:\",data.shape)\n",
    "print(\"Type:\",type(data))"
   ]
  },
  {
   "cell_type": "code",
   "execution_count": 3,
   "metadata": {},
   "outputs": [
    {
     "name": "stdout",
     "output_type": "stream",
     "text": [
      "[[4.28286814e-02 1.85657363e-01]\n",
      " [8.50818735e-04 1.01701637e-01]\n",
      " [8.99005500e-03 1.17980110e-01]\n",
      " [3.14699005e-02 1.62939801e-01]\n",
      " [3.82252580e-03 1.07645052e-01]\n",
      " [1.28727802e-02 1.25745560e-01]\n",
      " [4.72743010e-02 1.94548602e-01]\n",
      " [4.03904660e-02 1.80780932e-01]\n",
      " [1.36946714e-02 1.27389343e-01]\n",
      " [4.87574602e-02 1.97514920e-01]\n",
      " [2.32520851e-02 1.46504170e-01]\n",
      " [2.25565929e-02 1.45113186e-01]\n",
      " [3.73447763e-02 1.74689553e-01]\n",
      " [3.69667553e-02 1.73933511e-01]\n",
      " [4.60585764e-02 1.92117153e-01]\n",
      " [4.26650136e-02 1.85330027e-01]\n",
      " [3.00166578e-02 1.60033316e-01]\n",
      " [4.81374684e-02 1.96274937e-01]\n",
      " [9.92706854e-03 1.19854137e-01]\n",
      " [1.52074607e-02 1.30414921e-01]\n",
      " [3.67289921e-02 1.73457984e-01]\n",
      " [4.23707765e-02 1.84741553e-01]\n",
      " [3.84824376e-02 1.76964875e-01]\n",
      " [4.52478248e-02 1.90495650e-01]\n",
      " [3.67595248e-02 1.73519050e-01]\n",
      " [2.97786457e-02 1.59557291e-01]\n",
      " [2.63256421e-02 1.52651284e-01]\n",
      " [4.12098647e-02 1.82419729e-01]\n",
      " [2.68751007e-03 1.05375020e-01]\n",
      " [4.23035868e-02 1.84607174e-01]\n",
      " [3.49211210e-04 1.00698422e-01]\n",
      " [3.81035573e-02 1.76207115e-01]\n",
      " [3.91921897e-02 1.78384379e-01]\n",
      " [1.72749700e-02 1.34549940e-01]\n",
      " [1.51795302e-02 1.30359060e-01]\n",
      " [3.70755982e-02 1.74151196e-01]\n",
      " [2.03796981e-03 1.04075940e-01]\n",
      " [2.32695525e-02 1.46539105e-01]\n",
      " [3.79537539e-03 1.07590751e-01]\n",
      " [9.19159881e-03 1.18383198e-01]\n",
      " [1.49457517e-02 1.29891503e-01]\n",
      " [8.65314453e-03 1.17306289e-01]\n",
      " [2.40331024e-02 1.48066205e-01]\n",
      " [1.78718113e-02 1.35743623e-01]\n",
      " [2.89282681e-02 1.57856536e-01]\n",
      " [1.49321475e-02 1.29864295e-01]\n",
      " [6.15222273e-03 1.12304445e-01]\n",
      " [2.63381185e-02 1.52676237e-01]\n",
      " [3.09085087e-02 1.61817017e-01]\n",
      " [3.48667994e-02 1.69733599e-01]\n",
      " [7.41597469e-05 1.00148319e-01]\n",
      " [3.92557202e-04 1.00785114e-01]\n",
      " [3.13366985e-02 1.62673397e-01]\n",
      " [3.37855757e-02 1.67571151e-01]\n",
      " [2.62618380e-02 1.52523676e-01]\n",
      " [3.59172110e-02 1.71834422e-01]\n",
      " [8.60250310e-03 1.17205006e-01]\n",
      " [2.31712007e-02 1.46342401e-01]\n",
      " [1.61343515e-02 1.32268703e-01]\n",
      " [1.18600688e-02 1.23720138e-01]\n",
      " [2.97806166e-02 1.59561233e-01]\n",
      " [2.38866311e-02 1.47773262e-01]\n",
      " [4.54369405e-02 1.90873881e-01]\n",
      " [3.77945802e-02 1.75589160e-01]\n",
      " [3.85853937e-02 1.77170787e-01]\n",
      " [1.73415736e-02 1.34683147e-01]\n",
      " [3.39295845e-02 1.67859169e-01]\n",
      " [3.11459935e-02 1.62291987e-01]\n",
      " [4.84268933e-02 1.96853787e-01]\n",
      " [3.49689149e-02 1.69937830e-01]\n",
      " [2.69740598e-02 1.53948120e-01]\n",
      " [3.75432437e-02 1.75086487e-01]\n",
      " [5.79984267e-03 1.11599685e-01]\n",
      " [1.67483719e-02 1.33496744e-01]\n",
      " [6.16199488e-03 1.12323990e-01]\n",
      " [4.44344888e-02 1.88868978e-01]\n",
      " [4.21182598e-02 1.84236520e-01]\n",
      " [2.25696126e-03 1.04513923e-01]\n",
      " [2.55266108e-02 1.51053222e-01]\n",
      " [8.47581295e-03 1.16951626e-01]\n",
      " [1.16078025e-02 1.23215605e-01]\n",
      " [2.51553255e-02 1.50310651e-01]\n",
      " [2.22340149e-02 1.44468030e-01]\n",
      " [1.11076664e-02 1.22215333e-01]\n",
      " [3.84260713e-02 1.76852143e-01]\n",
      " [2.55267099e-02 1.51053420e-01]\n",
      " [3.32131942e-02 1.66426388e-01]\n",
      " [8.66802734e-04 1.01733605e-01]\n",
      " [2.25875117e-02 1.45175023e-01]\n",
      " [1.64753084e-02 1.32950617e-01]\n",
      " [4.06178443e-02 1.81235689e-01]\n",
      " [9.27011960e-03 1.18540239e-01]\n",
      " [9.86866903e-03 1.19737338e-01]\n",
      " [2.64559682e-02 1.52911936e-01]\n",
      " [2.56727956e-03 1.05134559e-01]\n",
      " [1.90969100e-02 1.38193820e-01]\n",
      " [4.34182208e-02 1.86836442e-01]\n",
      " [3.78219659e-03 1.07564393e-01]\n",
      " [1.04236173e-02 1.20847235e-01]\n",
      " [4.21356803e-02 1.84271361e-01]]\n"
     ]
    },
    {
     "data": {
      "image/png": "[encoded data removed]",
      "text/plain": [
       "<Figure size 432x288 with 1 Axes>"
      ]
     },
     "metadata": {
      "needs_background": "light"
     },
     "output_type": "display_data"
    }
   ],
   "source": [
    "print(data)\n",
    "X = data[:, 0]\n",
    "y = data[:, 1]\n",
    "plt.scatter(X,y)\n",
    "plt.show()"
   ]
  },
  {
   "cell_type": "code",
   "execution_count": 15,
   "metadata": {},
   "outputs": [
    {
     "data": {
      "text/plain": [
       "[<matplotlib.lines.Line2D at 0x13217803af0>]"
      ]
     },
     "execution_count": 15,
     "metadata": {},
     "output_type": "execute_result"
    },
    {
     "data": {
      "image/png": "[encoded data removed]",
      "text/plain": [
       "<Figure size 432x288 with 1 Axes>"
      ]
     },
     "metadata": {
      "needs_background": "light"
     },
     "output_type": "display_data"
    }
   ],
   "source": [
    "m = 0\n",
    "b = 0\n",
    "y_predicted = m*X + b\n",
    "sigmoid = 1/(1 + np.exp(-y_predicted)) # Activation function\n",
    "iter = 1000000 # iteration\n",
    "n = len(X)\n",
    "\n",
    "for i in range(0,iter):\n",
    "    y_predicted = m*X + b\n",
    "    m_derivative = (-2/n) * ( (X * (y - y_predicted)).sum() )\n",
    "    b_derivative = (-2/n) * ((y - y_predicted).sum())\n",
    "    m = m - sigmoid*m_derivative\n",
    "    b = b - sigmoid*b_derivative\n",
    "\n",
    "y_predicted = m*X + b\n",
    "plt.scatter(X,y)\n",
    "plt.plot([min(X),max(X)], [min(y_predicted),max(y_predicted)], color='red')\n"
   ]
  }
 ],
 "metadata": {
  "kernelspec": {
   "display_name": "Python 3.9.12 ('base')",
   "language": "python",
   "name": "python3"
  },
  "language_info": {
   "codemirror_mode": {
    "name": "ipython",
    "version": 3
   },
   "file_extension": ".py",
   "mimetype": "text/x-python",
   "name": "python",
   "nbconvert_exporter": "python",
   "pygments_lexer": "ipython3",
   "version": "3.9.12"
  },
  "orig_nbformat": 4,
  "vscode": {
   "interpreter": {
    "hash": "630f30bc5e58f27a7739d1e013ae8bc4ba528fb823ea4c2773c30dee40f9b246"
   }
  }
 },
 "nbformat": 4,
 "nbformat_minor": 2
}
