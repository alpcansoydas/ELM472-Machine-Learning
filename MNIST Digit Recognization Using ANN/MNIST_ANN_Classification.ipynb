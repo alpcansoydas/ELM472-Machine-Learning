{
 "cells": [
  {
   "cell_type": "markdown",
   "metadata": {},
   "source": [
    "MNIST verisini kullanarak çok katmanlı yapay sinir ağı mimarisiyle sınıflandırma yapınız. Ağın \n",
    "hiperparametrelerine göre başarımın nasıl değiştiğini inceleyiniz. "
   ]
  },
  {
   "cell_type": "code",
   "execution_count": 102,
   "metadata": {},
   "outputs": [],
   "source": [
    "import numpy as np\n",
    "import matplotlib.pyplot as plt\n",
    "import pandas as pd"
   ]
  },
  {
   "cell_type": "code",
   "execution_count": 103,
   "metadata": {},
   "outputs": [],
   "source": [
    "data = pd.read_csv('train.csv')\n",
    "# Dataset is from https://www.kaggle.com/code/wwsalmon/simple-mnist-nn-from-scratch-numpy-no-tf-keras/data?select=train.csv"
   ]
  },
  {
   "cell_type": "code",
   "execution_count": 104,
   "metadata": {},
   "outputs": [
    {
     "data": {
      "text/html": [
       "<div>\n",
       "<style scoped>\n",
       "    .dataframe tbody tr th:only-of-type {\n",
       "        vertical-align: middle;\n",
       "    }\n",
       "\n",
       "    .dataframe tbody tr th {\n",
       "        vertical-align: top;\n",
       "    }\n",
       "\n",
       "    .dataframe thead th {\n",
       "        text-align: right;\n",
       "    }\n",
       "</style>\n",
       "<table border=\"1\" class=\"dataframe\">\n",
       "  <thead>\n",
       "    <tr style=\"text-align: right;\">\n",
       "      <th></th>\n",
       "      <th>label</th>\n",
       "      <th>pixel0</th>\n",
       "      <th>pixel1</th>\n",
       "      <th>pixel2</th>\n",
       "      <th>pixel3</th>\n",
       "      <th>pixel4</th>\n",
       "      <th>pixel5</th>\n",
       "      <th>pixel6</th>\n",
       "      <th>pixel7</th>\n",
       "      <th>pixel8</th>\n",
       "      <th>...</th>\n",
       "      <th>pixel774</th>\n",
       "      <th>pixel775</th>\n",
       "      <th>pixel776</th>\n",
       "      <th>pixel777</th>\n",
       "      <th>pixel778</th>\n",
       "      <th>pixel779</th>\n",
       "      <th>pixel780</th>\n",
       "      <th>pixel781</th>\n",
       "      <th>pixel782</th>\n",
       "      <th>pixel783</th>\n",
       "    </tr>\n",
       "  </thead>\n",
       "  <tbody>\n",
       "    <tr>\n",
       "      <th>0</th>\n",
       "      <td>1</td>\n",
       "      <td>0</td>\n",
       "      <td>0</td>\n",
       "      <td>0</td>\n",
       "      <td>0</td>\n",
       "      <td>0</td>\n",
       "      <td>0</td>\n",
       "      <td>0</td>\n",
       "      <td>0</td>\n",
       "      <td>0</td>\n",
       "      <td>...</td>\n",
       "      <td>0</td>\n",
       "      <td>0</td>\n",
       "      <td>0</td>\n",
       "      <td>0</td>\n",
       "      <td>0</td>\n",
       "      <td>0</td>\n",
       "      <td>0</td>\n",
       "      <td>0</td>\n",
       "      <td>0</td>\n",
       "      <td>0</td>\n",
       "    </tr>\n",
       "    <tr>\n",
       "      <th>1</th>\n",
       "      <td>0</td>\n",
       "      <td>0</td>\n",
       "      <td>0</td>\n",
       "      <td>0</td>\n",
       "      <td>0</td>\n",
       "      <td>0</td>\n",
       "      <td>0</td>\n",
       "      <td>0</td>\n",
       "      <td>0</td>\n",
       "      <td>0</td>\n",
       "      <td>...</td>\n",
       "      <td>0</td>\n",
       "      <td>0</td>\n",
       "      <td>0</td>\n",
       "      <td>0</td>\n",
       "      <td>0</td>\n",
       "      <td>0</td>\n",
       "      <td>0</td>\n",
       "      <td>0</td>\n",
       "      <td>0</td>\n",
       "      <td>0</td>\n",
       "    </tr>\n",
       "    <tr>\n",
       "      <th>2</th>\n",
       "      <td>1</td>\n",
       "      <td>0</td>\n",
       "      <td>0</td>\n",
       "      <td>0</td>\n",
       "      <td>0</td>\n",
       "      <td>0</td>\n",
       "      <td>0</td>\n",
       "      <td>0</td>\n",
       "      <td>0</td>\n",
       "      <td>0</td>\n",
       "      <td>...</td>\n",
       "      <td>0</td>\n",
       "      <td>0</td>\n",
       "      <td>0</td>\n",
       "      <td>0</td>\n",
       "      <td>0</td>\n",
       "      <td>0</td>\n",
       "      <td>0</td>\n",
       "      <td>0</td>\n",
       "      <td>0</td>\n",
       "      <td>0</td>\n",
       "    </tr>\n",
       "    <tr>\n",
       "      <th>3</th>\n",
       "      <td>4</td>\n",
       "      <td>0</td>\n",
       "      <td>0</td>\n",
       "      <td>0</td>\n",
       "      <td>0</td>\n",
       "      <td>0</td>\n",
       "      <td>0</td>\n",
       "      <td>0</td>\n",
       "      <td>0</td>\n",
       "      <td>0</td>\n",
       "      <td>...</td>\n",
       "      <td>0</td>\n",
       "      <td>0</td>\n",
       "      <td>0</td>\n",
       "      <td>0</td>\n",
       "      <td>0</td>\n",
       "      <td>0</td>\n",
       "      <td>0</td>\n",
       "      <td>0</td>\n",
       "      <td>0</td>\n",
       "      <td>0</td>\n",
       "    </tr>\n",
       "    <tr>\n",
       "      <th>4</th>\n",
       "      <td>0</td>\n",
       "      <td>0</td>\n",
       "      <td>0</td>\n",
       "      <td>0</td>\n",
       "      <td>0</td>\n",
       "      <td>0</td>\n",
       "      <td>0</td>\n",
       "      <td>0</td>\n",
       "      <td>0</td>\n",
       "      <td>0</td>\n",
       "      <td>...</td>\n",
       "      <td>0</td>\n",
       "      <td>0</td>\n",
       "      <td>0</td>\n",
       "      <td>0</td>\n",
       "      <td>0</td>\n",
       "      <td>0</td>\n",
       "      <td>0</td>\n",
       "      <td>0</td>\n",
       "      <td>0</td>\n",
       "      <td>0</td>\n",
       "    </tr>\n",
       "  </tbody>\n",
       "</table>\n",
       "<p>5 rows × 785 columns</p>\n",
       "</div>"
      ],
      "text/plain": [
       "   label  pixel0  pixel1  pixel2  pixel3  pixel4  pixel5  pixel6  pixel7  \\\n",
       "0      1       0       0       0       0       0       0       0       0   \n",
       "1      0       0       0       0       0       0       0       0       0   \n",
       "2      1       0       0       0       0       0       0       0       0   \n",
       "3      4       0       0       0       0       0       0       0       0   \n",
       "4      0       0       0       0       0       0       0       0       0   \n",
       "\n",
       "   pixel8  ...  pixel774  pixel775  pixel776  pixel777  pixel778  pixel779  \\\n",
       "0       0  ...         0         0         0         0         0         0   \n",
       "1       0  ...         0         0         0         0         0         0   \n",
       "2       0  ...         0         0         0         0         0         0   \n",
       "3       0  ...         0         0         0         0         0         0   \n",
       "4       0  ...         0         0         0         0         0         0   \n",
       "\n",
       "   pixel780  pixel781  pixel782  pixel783  \n",
       "0         0         0         0         0  \n",
       "1         0         0         0         0  \n",
       "2         0         0         0         0  \n",
       "3         0         0         0         0  \n",
       "4         0         0         0         0  \n",
       "\n",
       "[5 rows x 785 columns]"
      ]
     },
     "execution_count": 104,
     "metadata": {},
     "output_type": "execute_result"
    }
   ],
   "source": [
    "data.head()"
   ]
  },
  {
   "cell_type": "code",
   "execution_count": 105,
   "metadata": {},
   "outputs": [],
   "source": [
    "data = np.array(data)\n",
    "m, n = data.shape\n",
    "np.random.shuffle(data) # shuffle before splitting into dev and training sets\n",
    "\n",
    "data_dev = data[0:1000].T\n",
    "Y_dev = data_dev[0]\n",
    "X_dev = data_dev[1:n]\n",
    "X_dev = X_dev / 255.\n",
    "\n",
    "data_train = data[1000:m].T\n",
    "Y_train = data_train[0]\n",
    "X_train = data_train[1:n]\n",
    "X_train = X_train / 255.\n",
    "_,m_train = X_train.shape"
   ]
  },
  {
   "cell_type": "code",
   "execution_count": 111,
   "metadata": {},
   "outputs": [
    {
     "data": {
      "text/plain": [
       "<matplotlib.image.AxesImage at 0x1e211af5ee0>"
      ]
     },
     "execution_count": 111,
     "metadata": {},
     "output_type": "execute_result"
    },
    {
     "data": {
      "image/png": "[encoded data removed]",
      "text/plain": [
       "<Figure size 432x288 with 1 Axes>"
      ]
     },
     "metadata": {
      "needs_background": "light"
     },
     "output_type": "display_data"
    }
   ],
   "source": [
    "# Visualizing data\n",
    "X_train[:,0].shape\n",
    "plt.imshow(X_train[:,0].reshape((28,28)))"
   ]
  },
  {
   "cell_type": "code",
   "execution_count": 114,
   "metadata": {},
   "outputs": [],
   "source": [
    "def init_params(): # Initialize parameters\n",
    "    W1 = np.random.rand(10, 784) - 0.5\n",
    "    b1 = np.random.rand(10, 1) - 0.5\n",
    "    W2 = np.random.rand(10, 10) - 0.5\n",
    "    b2 = np.random.rand(10, 1) - 0.5\n",
    "    return W1, b1, W2, b2\n",
    "\n",
    "def ReLU(Z): # Activation\n",
    "    return np.maximum(Z, 0)\n",
    "\n",
    "def softmax(Z):\n",
    "    A = np.exp(Z) / sum(np.exp(Z))\n",
    "    return A\n",
    "    \n",
    "def forward_prop(W1, b1, W2, b2, X):\n",
    "    Z1 = W1.dot(X) + b1\n",
    "    A1 = ReLU(Z1)\n",
    "    Z2 = W2.dot(A1) + b2\n",
    "    A2 = softmax(Z2)\n",
    "    return Z1, A1, Z2, A2\n",
    "\n",
    "def ReLU_deriv(Z):\n",
    "    return Z > 0\n",
    "\n",
    "def one_hot(Y):\n",
    "    one_hot_Y = np.zeros((Y.size, Y.max() + 1))\n",
    "    one_hot_Y[np.arange(Y.size), Y] = 1\n",
    "    one_hot_Y = one_hot_Y.T\n",
    "    return one_hot_Y\n",
    "\n",
    "def backward_prop(Z1, A1, Z2, A2, W1, W2, X, Y):\n",
    "    one_hot_Y = one_hot(Y)\n",
    "    dZ2 = A2 - one_hot_Y\n",
    "    dW2 = 1 / m * dZ2.dot(A1.T)\n",
    "    db2 = 1 / m * np.sum(dZ2)\n",
    "    dZ1 = W2.T.dot(dZ2) * ReLU_deriv(Z1)\n",
    "    dW1 = 1 / m * dZ1.dot(X.T)\n",
    "    db1 = 1 / m * np.sum(dZ1)\n",
    "    return dW1, db1, dW2, db2\n",
    "\n",
    "def update_params(W1, b1, W2, b2, dW1, db1, dW2, db2, alpha):\n",
    "    W1 = W1 - alpha * dW1\n",
    "    b1 = b1 - alpha * db1    \n",
    "    W2 = W2 - alpha * dW2  \n",
    "    b2 = b2 - alpha * db2    \n",
    "    return W1, b1, W2, b2\n",
    "\n",
    "def get_predictions(A2):\n",
    "    return np.argmax(A2, 0)\n",
    "\n",
    "def get_accuracy(predictions, Y):\n",
    "    print(predictions, Y)\n",
    "    return np.sum(predictions == Y) / Y.size\n",
    "\n",
    "def gradient_descent(X, Y, alpha, iterations):\n",
    "    W1, b1, W2, b2 = init_params()\n",
    "    for i in range(iterations):\n",
    "        Z1, A1, Z2, A2 = forward_prop(W1, b1, W2, b2, X)\n",
    "        dW1, db1, dW2, db2 = backward_prop(Z1, A1, Z2, A2, W1, W2, X, Y)\n",
    "        W1, b1, W2, b2 = update_params(W1, b1, W2, b2, dW1, db1, dW2, db2, alpha)\n",
    "        if i % 10 == 0:\n",
    "            print(\"Iteration: \", i)\n",
    "            predictions = get_predictions(A2)\n",
    "            print(get_accuracy(predictions, Y))\n",
    "    return W1, b1, W2, b2\n"
   ]
  },
  {
   "cell_type": "code",
   "execution_count": 84,
   "metadata": {},
   "outputs": [
    {
     "name": "stdout",
     "output_type": "stream",
     "text": [
      "Iteration:  0\n",
      "[0 0 8 ... 6 8 3] [8 9 4 ... 9 0 3]\n",
      "0.06721951219512196\n",
      "Iteration:  10\n",
      "[0 0 4 ... 4 8 3] [8 9 4 ... 9 0 3]\n",
      "0.2150731707317073\n",
      "Iteration:  20\n",
      "[0 0 4 ... 4 0 3] [8 9 4 ... 9 0 3]\n",
      "0.3328536585365854\n",
      "Iteration:  30\n",
      "[0 2 4 ... 4 0 3] [8 9 4 ... 9 0 3]\n",
      "0.4317073170731707\n",
      "Iteration:  40\n",
      "[0 2 4 ... 4 0 3] [8 9 4 ... 9 0 3]\n",
      "0.5027317073170732\n",
      "Iteration:  50\n",
      "[8 2 4 ... 4 0 3] [8 9 4 ... 9 0 3]\n",
      "0.5569512195121952\n",
      "Iteration:  60\n",
      "[8 2 4 ... 4 0 3] [8 9 4 ... 9 0 3]\n",
      "0.5957560975609756\n",
      "Iteration:  70\n",
      "[8 8 4 ... 4 0 3] [8 9 4 ... 9 0 3]\n",
      "0.625780487804878\n",
      "Iteration:  80\n",
      "[8 8 4 ... 4 0 3] [8 9 4 ... 9 0 3]\n",
      "0.6488780487804878\n",
      "Iteration:  90\n",
      "[5 8 4 ... 4 0 3] [8 9 4 ... 9 0 3]\n",
      "0.6688048780487805\n",
      "Iteration:  100\n",
      "[5 8 4 ... 4 0 3] [8 9 4 ... 9 0 3]\n",
      "0.6830975609756098\n",
      "Iteration:  110\n",
      "[5 8 4 ... 4 0 3] [8 9 4 ... 9 0 3]\n",
      "0.6977073170731707\n",
      "Iteration:  120\n",
      "[5 8 4 ... 4 0 3] [8 9 4 ... 9 0 3]\n",
      "0.7085609756097561\n",
      "Iteration:  130\n",
      "[5 8 4 ... 4 0 3] [8 9 4 ... 9 0 3]\n",
      "0.7185609756097561\n",
      "Iteration:  140\n",
      "[5 8 4 ... 4 0 3] [8 9 4 ... 9 0 3]\n",
      "0.7274878048780488\n",
      "Iteration:  150\n",
      "[5 8 4 ... 4 0 3] [8 9 4 ... 9 0 3]\n",
      "0.7356341463414634\n",
      "Iteration:  160\n",
      "[5 8 4 ... 4 0 3] [8 9 4 ... 9 0 3]\n",
      "0.7423658536585366\n",
      "Iteration:  170\n",
      "[5 8 4 ... 4 0 3] [8 9 4 ... 9 0 3]\n",
      "0.7484146341463415\n",
      "Iteration:  180\n",
      "[5 8 4 ... 4 0 3] [8 9 4 ... 9 0 3]\n",
      "0.7539512195121951\n",
      "Iteration:  190\n",
      "[5 8 4 ... 4 0 3] [8 9 4 ... 9 0 3]\n",
      "0.7600975609756098\n",
      "Iteration:  200\n",
      "[5 8 4 ... 4 0 3] [8 9 4 ... 9 0 3]\n",
      "0.7654634146341464\n",
      "Iteration:  210\n",
      "[5 8 4 ... 4 0 3] [8 9 4 ... 9 0 3]\n",
      "0.7704634146341464\n",
      "Iteration:  220\n",
      "[5 8 4 ... 4 0 3] [8 9 4 ... 9 0 3]\n",
      "0.7744878048780488\n",
      "Iteration:  230\n",
      "[5 8 4 ... 4 0 3] [8 9 4 ... 9 0 3]\n",
      "0.7780975609756098\n",
      "Iteration:  240\n",
      "[5 8 4 ... 4 0 3] [8 9 4 ... 9 0 3]\n",
      "0.7819268292682927\n",
      "Iteration:  250\n",
      "[8 8 4 ... 4 0 3] [8 9 4 ... 9 0 3]\n",
      "0.7860487804878049\n",
      "Iteration:  260\n",
      "[8 8 4 ... 4 0 3] [8 9 4 ... 9 0 3]\n",
      "0.7894878048780488\n",
      "Iteration:  270\n",
      "[8 8 4 ... 4 0 3] [8 9 4 ... 9 0 3]\n",
      "0.7928536585365854\n",
      "Iteration:  280\n",
      "[8 8 4 ... 4 0 3] [8 9 4 ... 9 0 3]\n",
      "0.7963658536585366\n",
      "Iteration:  290\n",
      "[8 8 4 ... 4 0 3] [8 9 4 ... 9 0 3]\n",
      "0.7997073170731708\n",
      "Iteration:  300\n",
      "[8 8 4 ... 4 0 3] [8 9 4 ... 9 0 3]\n",
      "0.8025853658536586\n",
      "Iteration:  310\n",
      "[8 8 4 ... 4 0 3] [8 9 4 ... 9 0 3]\n",
      "0.8056829268292683\n",
      "Iteration:  320\n",
      "[8 8 4 ... 4 0 3] [8 9 4 ... 9 0 3]\n",
      "0.8086585365853659\n",
      "Iteration:  330\n",
      "[8 8 4 ... 4 0 3] [8 9 4 ... 9 0 3]\n",
      "0.8108536585365854\n",
      "Iteration:  340\n",
      "[8 8 4 ... 4 0 3] [8 9 4 ... 9 0 3]\n",
      "0.8131951219512195\n",
      "Iteration:  350\n",
      "[8 8 4 ... 4 0 3] [8 9 4 ... 9 0 3]\n",
      "0.8162682926829268\n",
      "Iteration:  360\n",
      "[8 8 4 ... 4 0 3] [8 9 4 ... 9 0 3]\n",
      "0.8187560975609756\n",
      "Iteration:  370\n",
      "[8 8 4 ... 4 0 3] [8 9 4 ... 9 0 3]\n",
      "0.8212439024390243\n",
      "Iteration:  380\n",
      "[8 8 4 ... 4 0 3] [8 9 4 ... 9 0 3]\n",
      "0.8235853658536585\n",
      "Iteration:  390\n",
      "[8 8 4 ... 4 0 3] [8 9 4 ... 9 0 3]\n",
      "0.8260487804878048\n",
      "Iteration:  400\n",
      "[8 8 4 ... 4 0 3] [8 9 4 ... 9 0 3]\n",
      "0.8279024390243902\n",
      "Iteration:  410\n",
      "[8 8 4 ... 4 0 3] [8 9 4 ... 9 0 3]\n",
      "0.8299024390243902\n",
      "Iteration:  420\n",
      "[8 8 4 ... 4 0 3] [8 9 4 ... 9 0 3]\n",
      "0.8318048780487804\n",
      "Iteration:  430\n",
      "[8 8 4 ... 4 0 3] [8 9 4 ... 9 0 3]\n",
      "0.8335609756097561\n",
      "Iteration:  440\n",
      "[8 8 4 ... 4 0 3] [8 9 4 ... 9 0 3]\n",
      "0.8358048780487805\n",
      "Iteration:  450\n",
      "[8 8 4 ... 4 0 3] [8 9 4 ... 9 0 3]\n",
      "0.8377073170731707\n",
      "Iteration:  460\n",
      "[8 8 4 ... 4 0 3] [8 9 4 ... 9 0 3]\n",
      "0.8393414634146341\n",
      "Iteration:  470\n",
      "[8 8 4 ... 4 0 3] [8 9 4 ... 9 0 3]\n",
      "0.8407073170731707\n",
      "Iteration:  480\n",
      "[8 8 4 ... 4 0 3] [8 9 4 ... 9 0 3]\n",
      "0.8426341463414634\n",
      "Iteration:  490\n",
      "[8 8 4 ... 4 0 3] [8 9 4 ... 9 0 3]\n",
      "0.8443170731707317\n"
     ]
    }
   ],
   "source": [
    "W1, b1, W2, b2 = gradient_descent(X_train, Y_train, 0.10, 500)"
   ]
  },
  {
   "cell_type": "code",
   "execution_count": 85,
   "metadata": {},
   "outputs": [],
   "source": [
    "def make_predictions(X, W1, b1, W2, b2):\n",
    "    _, _, _, A2 = forward_prop(W1, b1, W2, b2, X)\n",
    "    predictions = get_predictions(A2)\n",
    "    return predictions\n",
    "\n",
    "def test_prediction(index, W1, b1, W2, b2):\n",
    "    current_image = X_train[:, index, None]\n",
    "    prediction = make_predictions(X_train[:, index, None], W1, b1, W2, b2)\n",
    "    label = Y_train[index]\n",
    "    print(\"Prediction: \", prediction)\n",
    "    print(\"Label: \", label)\n",
    "    \n",
    "    current_image = current_image.reshape((28, 28)) * 255\n",
    "    plt.gray()\n",
    "    plt.imshow(current_image, interpolation='nearest')\n",
    "    plt.show()"
   ]
  },
  {
   "cell_type": "code",
   "execution_count": 86,
   "metadata": {},
   "outputs": [
    {
     "name": "stdout",
     "output_type": "stream",
     "text": [
      "Prediction:  [8]\n",
      "Label:  8\n"
     ]
    },
    {
     "data": {
      "image/png": "[encoded data removed]",
      "text/plain": [
       "<Figure size 432x288 with 1 Axes>"
      ]
     },
     "metadata": {
      "needs_background": "light"
     },
     "output_type": "display_data"
    },
    {
     "name": "stdout",
     "output_type": "stream",
     "text": [
      "Prediction:  [8]\n",
      "Label:  9\n"
     ]
    },
    {
     "data": {
      "image/png": "[encoded data removed]",
      "text/plain": [
       "<Figure size 432x288 with 1 Axes>"
      ]
     },
     "metadata": {
      "needs_background": "light"
     },
     "output_type": "display_data"
    },
    {
     "name": "stdout",
     "output_type": "stream",
     "text": [
      "Prediction:  [4]\n",
      "Label:  4\n"
     ]
    },
    {
     "data": {
      "image/png": "[encoded data removed]",
      "text/plain": [
       "<Figure size 432x288 with 1 Axes>"
      ]
     },
     "metadata": {
      "needs_background": "light"
     },
     "output_type": "display_data"
    },
    {
     "name": "stdout",
     "output_type": "stream",
     "text": [
      "Prediction:  [0]\n",
      "Label:  0\n"
     ]
    },
    {
     "data": {
      "image/png": "[encoded data removed]",
      "text/plain": [
       "<Figure size 432x288 with 1 Axes>"
      ]
     },
     "metadata": {
      "needs_background": "light"
     },
     "output_type": "display_data"
    }
   ],
   "source": [
    "test_prediction(0, W1, b1, W2, b2)\n",
    "test_prediction(1, W1, b1, W2, b2)\n",
    "test_prediction(2, W1, b1, W2, b2)\n",
    "test_prediction(3, W1, b1, W2, b2)"
   ]
  },
  {
   "cell_type": "code",
   "execution_count": 115,
   "metadata": {},
   "outputs": [
    {
     "name": "stdout",
     "output_type": "stream",
     "text": [
      "[2 5 9 9 6 0 6 6 6 3 2 7 2 0 2 1 6 9 3 0 9 8 9 5 3 7 7 6 3 6 7 5 8 0 6 6 4\n",
      " 3 4 8 5 5 8 5 5 8 4 1 3 9 8 0 4 8 6 3 6 1 3 2 3 9 7 8 2 9 8 8 4 8 0 7 7 3\n",
      " 7 6 8 3 4 8 6 4 4 8 1 5 5 5 4 9 3 6 4 6 1 9 1 9 5 7 9 5 8 4 7 5 1 0 7 3 4\n",
      " 7 0 7 9 0 4 0 3 6 8 0 0 0 0 9 6 4 4 9 4 5 6 3 5 6 5 7 7 1 2 8 6 2 4 1 7 7\n",
      " 0 5 2 0 2 3 1 0 9 2 7 7 1 6 7 7 7 1 0 9 5 7 9 6 9 8 4 9 7 0 4 7 3 7 9 9 3\n",
      " 6 0 8 2 6 0 2 6 0 9 1 4 3 6 0 9 2 7 7 7 0 3 5 9 4 9 7 1 7 8 2 1 4 9 9 2 2\n",
      " 5 5 1 6 1 7 2 9 0 9 9 4 0 2 5 1 5 3 8 0 2 0 2 2 1 0 8 4 7 8 1 7 0 6 9 0 0\n",
      " 4 5 8 3 3 7 2 1 9 0 0 4 9 4 4 8 7 5 9 2 9 8 9 2 3 2 6 2 4 4 7 7 5 3 1 7 0\n",
      " 1 1 0 4 6 1 4 1 9 5 2 0 7 1 4 4 6 2 4 5 5 7 5 6 7 7 0 0 6 8 6 6 0 8 1 3 7\n",
      " 3 7 9 0 6 7 2 0 9 8 8 1 3 8 6 8 1 1 6 4 4 9 8 8 7 4 3 9 7 4 4 4 2 7 1 5 5\n",
      " 0 3 6 5 3 9 3 9 3 7 9 7 5 8 3 0 2 7 5 4 2 2 5 1 9 9 7 3 1 0 4 5 8 8 4 6 8\n",
      " 2 6 6 0 1 8 2 0 5 4 5 7 1 1 5 9 3 6 4 6 2 0 6 8 9 2 6 0 7 8 7 0 3 8 3 2 8\n",
      " 7 9 5 6 2 7 2 2 2 8 4 6 4 5 0 4 1 0 1 7 1 6 3 8 1 1 9 6 3 1 0 4 1 6 9 6 0\n",
      " 0 2 8 9 3 2 8 7 7 9 0 5 8 2 7 0 9 0 5 3 7 4 0 2 9 1 1 2 2 1 9 1 8 3 0 7 9\n",
      " 5 0 1 3 7 0 0 4 7 6 3 7 6 1 2 3 1 4 1 0 8 7 0 8 1 5 5 9 9 6 0 1 3 6 9 7 3\n",
      " 0 2 3 6 5 8 6 3 1 5 7 9 2 6 5 4 4 0 4 3 2 0 0 8 0 8 4 6 0 5 8 3 1 2 0 0 2\n",
      " 3 9 4 1 6 5 3 9 2 9 6 7 2 8 3 0 3 8 4 3 6 8 9 7 4 8 4 9 4 5 0 6 6 2 6 2 9\n",
      " 8 9 0 2 2 1 4 0 1 1 6 3 0 3 6 0 0 4 1 1 1 6 0 3 0 0 1 2 1 2 4 4 9 8 4 5 6\n",
      " 0 5 4 6 5 3 4 5 8 4 9 7 2 5 6 9 0 6 4 3 3 2 8 2 7 7 9 0 5 2 1 2 7 8 9 1 6\n",
      " 5 9 2 9 8 3 8 6 2 7 1 6 7 2 1 4 4 2 3 5 1 4 6 3 3 1 8 8 5 0 0 0 5 0 0 4 2\n",
      " 7 6 3 1 8 8 5 1 1 4 9 2 7 2 7 6 8 2 5 2 5 7 5 3 3 8 0 1 3 4 7 6 0 3 0 3 2\n",
      " 2 2 2 3 6 2 9 4 4 2 0 9 4 2 5 7 7 4 7 4 9 6 9 7 8 6 8 5 4 2 1 5 2 8 9 6 8\n",
      " 8 0 6 2 4 0 9 4 6 7 3 2 4 5 0 9 3 7 9 3 6 9 9 0 3 9 6 9 9 2 9 8 8 1 0 6 9\n",
      " 2 1 1 0 1 9 8 0 0 7 4 3 5 7 8 3 4 0 1 0 8 3 4 3 8 7 3 3 7 6 1 9 4 4 1 5 4\n",
      " 8 2 9 2 9 7 0 4 9 1 7 0 7 1 9 0 4 4 6 4 1 9 0 5 5 2 1 0 6 2 1 3 6 5 5 1 8\n",
      " 7 4 8 1 6 9 5 3 9 9 8 0 3 6 7 2 7 6 2 7 2 3 9 7 3 6 1 3 2 0 2 5 2 1 0 8 3\n",
      " 9 6 4 0 3 8 6 3 3 8 5 8 0 3 7 9 3 9 8 6 4 4 4 0 6 8 4 3 2 8 1 8 9 3 8 8 4\n",
      " 1] [2 3 9 9 6 0 6 6 2 3 2 7 2 0 8 1 6 9 5 0 7 8 9 0 3 7 7 2 3 6 7 3 1 0 6 6 4\n",
      " 3 4 8 5 5 3 5 5 2 4 1 3 9 8 0 4 8 6 3 6 1 3 2 3 9 7 5 2 9 8 8 4 3 0 9 7 3\n",
      " 7 6 8 1 7 0 6 4 4 8 1 5 5 5 4 9 5 6 4 6 1 3 1 9 8 7 8 5 8 4 7 5 1 0 7 3 7\n",
      " 8 0 7 8 0 4 0 3 6 4 0 0 0 0 9 6 4 4 7 4 5 6 5 5 6 5 7 9 1 2 8 6 2 4 1 7 7\n",
      " 0 5 2 0 2 3 1 0 9 2 7 7 1 6 7 7 7 1 0 9 1 3 9 6 4 8 4 3 7 0 4 7 3 7 9 9 3\n",
      " 6 0 8 2 6 0 2 6 0 7 1 4 3 6 0 4 8 7 7 7 0 3 5 9 4 9 7 1 7 8 2 1 4 9 8 2 2\n",
      " 0 5 7 6 1 7 2 9 0 9 9 5 0 2 5 1 8 3 0 0 2 0 2 2 1 0 8 4 7 2 1 7 0 6 9 0 0\n",
      " 4 5 8 2 3 9 2 1 4 0 0 9 7 4 4 9 7 5 9 2 9 3 9 2 3 2 6 6 4 4 7 7 5 3 7 7 0\n",
      " 1 1 0 4 6 1 4 1 9 5 2 5 7 1 4 4 6 2 4 5 5 7 5 6 9 3 0 0 2 8 6 6 0 8 1 5 7\n",
      " 3 7 4 0 6 7 2 0 7 8 8 1 8 4 6 2 1 1 6 4 4 4 8 2 7 4 5 9 7 4 4 4 2 7 1 5 3\n",
      " 0 8 5 5 3 9 2 5 3 7 9 7 4 8 3 0 2 7 5 4 2 2 5 1 9 9 7 5 1 3 4 5 8 8 4 6 8\n",
      " 6 6 6 0 1 8 2 0 6 2 8 7 1 6 5 3 3 6 4 6 2 3 6 8 8 8 6 0 7 3 7 0 3 2 3 2 8\n",
      " 9 9 5 5 2 7 2 2 2 8 4 6 4 5 0 0 1 0 1 7 1 6 3 8 1 1 7 6 3 1 0 4 1 6 9 6 0\n",
      " 0 2 8 9 3 7 8 7 5 9 2 5 8 8 7 0 9 0 5 3 7 4 0 2 4 1 1 7 8 1 9 1 8 3 0 7 4\n",
      " 5 0 1 3 7 9 0 4 5 6 3 7 6 1 2 3 1 4 1 0 7 3 0 8 1 5 5 9 4 6 0 1 5 6 9 7 8\n",
      " 0 2 3 6 5 8 6 3 1 5 5 9 1 2 4 4 4 0 4 3 2 0 0 8 0 8 4 6 0 2 8 3 1 2 0 0 2\n",
      " 3 9 4 1 6 5 3 9 2 9 6 7 3 8 3 0 3 8 4 3 6 8 9 7 4 8 4 9 4 5 0 4 6 2 6 2 9\n",
      " 8 9 0 2 2 1 4 0 1 1 2 3 0 3 6 0 0 9 1 1 1 6 0 1 0 0 1 8 1 2 4 6 9 3 4 5 6\n",
      " 0 5 4 6 5 3 4 5 3 4 9 7 2 5 6 9 0 2 4 3 1 2 8 2 7 7 9 0 0 2 1 2 9 8 9 1 6\n",
      " 0 8 8 9 8 3 8 6 2 7 1 6 9 2 1 4 4 2 3 5 1 4 2 3 3 1 8 8 5 0 0 0 5 0 0 4 6\n",
      " 7 6 3 1 8 8 5 3 1 5 9 2 7 2 7 6 8 2 5 2 5 7 5 3 3 8 2 1 3 4 7 6 0 3 0 3 6\n",
      " 2 2 5 5 6 2 9 9 4 2 0 9 4 2 5 7 7 4 7 4 9 6 9 7 8 6 8 5 4 2 1 5 0 1 9 6 8\n",
      " 8 0 6 2 4 0 9 4 6 2 3 2 4 5 0 9 2 7 9 5 6 9 9 0 3 9 6 4 9 2 9 8 8 1 0 5 9\n",
      " 2 1 1 0 1 9 1 0 6 7 4 3 5 2 8 3 4 0 1 0 8 5 4 3 8 7 3 3 7 7 1 9 4 4 1 5 4\n",
      " 8 0 9 3 9 7 0 4 9 1 7 0 7 1 9 0 4 4 0 4 1 9 5 5 5 2 1 0 5 2 1 3 6 5 5 1 8\n",
      " 9 4 5 1 5 9 5 3 9 9 8 0 0 6 7 9 7 6 2 7 2 9 9 7 3 6 1 3 2 0 2 3 2 1 0 8 3\n",
      " 9 6 4 0 5 8 6 3 3 8 5 8 0 5 7 9 3 8 8 6 4 4 4 0 6 8 4 5 8 8 1 8 9 3 8 8 4\n",
      " 1]\n"
     ]
    },
    {
     "data": {
      "text/plain": [
       "0.838"
      ]
     },
     "execution_count": 115,
     "metadata": {},
     "output_type": "execute_result"
    }
   ],
   "source": [
    "dev_predictions = make_predictions(X_dev, W1, b1, W2, b2)\n",
    "get_accuracy(dev_predictions, Y_dev) # Prints predicted values matrix and real values matrix"
   ]
  },
  {
   "cell_type": "markdown",
   "metadata": {},
   "source": [
    "Kaynak: https://www.kaggle.com/code/wwsalmon/simple-mnist-nn-from-scratch-numpy-no-tf-keras/notebook"
   ]
  },
  {
   "cell_type": "code",
   "execution_count": null,
   "metadata": {},
   "outputs": [],
   "source": []
  }
 ],
 "metadata": {
  "kernelspec": {
   "display_name": "Python 3.9.12 ('base')",
   "language": "python",
   "name": "python3"
  },
  "language_info": {
   "codemirror_mode": {
    "name": "ipython",
    "version": 3
   },
   "file_extension": ".py",
   "mimetype": "text/x-python",
   "name": "python",
   "nbconvert_exporter": "python",
   "pygments_lexer": "ipython3",
   "version": "3.9.12"
  },
  "orig_nbformat": 4,
  "vscode": {
   "interpreter": {
    "hash": "630f30bc5e58f27a7739d1e013ae8bc4ba528fb823ea4c2773c30dee40f9b246"
   }
  }
 },
 "nbformat": 4,
 "nbformat_minor": 2
}
